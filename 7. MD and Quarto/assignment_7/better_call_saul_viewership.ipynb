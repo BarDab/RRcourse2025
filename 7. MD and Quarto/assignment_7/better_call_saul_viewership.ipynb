{
 "cells": [
  {
   "cell_type": "raw",
   "id": "1e00c4da-1ec9-4402-a28b-6ad4b241b3a8",
   "metadata": {},
   "source": [
    "---\n",
    "title: \"Better Call Saul - viewership\"\n",
    "author: \"Bartosz Dabrowski\"\n",
    "date: \"2025-04-16\"\n",
    "format: \n",
    "  html:\n",
    "    code-fold: false\n",
    "    embed-resources: true\n",
    "jupyter: python3\n",
    "---"
   ]
  },
  {
   "cell_type": "raw",
   "id": "a61c7660-21d9-40d9-8677-cc3b9f4929bc",
   "metadata": {},
   "source": [
    "*Better Call Saul is an American legal crime drama television series created by Vince Gilligan and Peter Gould for AMC. Part of the Breaking Bad franchise, it is a spin-off of Gilligan's previous series, Breaking Bad (2008–2013), to which it serves primarily as a prequel, with some scenes taking place during and after the events of Breaking Bad. Better Call Saul premiered on AMC on February 8, 2015, and ended on August 15, 2022, after six seasons consisting of 63 episodes.*\n",
    "\n",
    "Source: [https://en.wikipedia.org/wiki/Better_Call_Saul](https://en.wikipedia.org/wiki/Better_Call_Saul)"
   ]
  },
  {
   "cell_type": "raw",
   "id": "a2b53106-b9df-40cc-a4dc-040cdb56ec1e",
   "metadata": {},
   "source": [
    "<img src=\"Better_Call_Saul_logo.png\" alt=\"\" width=\"300\"/>"
   ]
  },
  {
   "cell_type": "code",
   "execution_count": null,
   "id": "8d0e2d4d-8eb0-4123-9a92-2203b657a1f0",
   "metadata": {},
   "outputs": [],
   "source": []
  }
 ],
 "metadata": {
  "kernelspec": {
   "display_name": "Python 3 (ipykernel)",
   "language": "python",
   "name": "python3"
  },
  "language_info": {
   "codemirror_mode": {
    "name": "ipython",
    "version": 3
   },
   "file_extension": ".py",
   "mimetype": "text/x-python",
   "name": "python",
   "nbconvert_exporter": "python",
   "pygments_lexer": "ipython3",
   "version": "3.12.0"
  }
 },
 "nbformat": 4,
 "nbformat_minor": 5
}
