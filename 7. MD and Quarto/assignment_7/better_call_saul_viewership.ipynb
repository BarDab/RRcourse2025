{
 "cells": [
  {
   "cell_type": "raw",
   "id": "1e00c4da-1ec9-4402-a28b-6ad4b241b3a8",
   "metadata": {},
   "source": [
    "---\n",
    "title: \"Better Call Saul - viewership\"\n",
    "author: \"Bartosz Dabrowski\"\n",
    "date: \"2025-04-16\"\n",
    "format: \n",
    "  html:\n",
    "    code-fold: false\n",
    "    embed-resources: true\n",
    "execute:\n",
    "  echo: false\n",
    "jupyter: python3\n",
    "---"
   ]
  },
  {
   "cell_type": "raw",
   "id": "a61c7660-21d9-40d9-8677-cc3b9f4929bc",
   "metadata": {},
   "source": [
    "*Better Call Saul is an American legal crime drama television series created by Vince Gilligan and Peter Gould for AMC. Part of the Breaking Bad franchise, it is a spin-off of Gilligan's previous series, Breaking Bad (2008–2013), to which it serves primarily as a prequel, with some scenes taking place during and after the events of Breaking Bad. Better Call Saul premiered on AMC on February 8, 2015, and ended on August 15, 2022, after six seasons consisting of 63 episodes.*\n",
    "\n",
    "Source: [https://en.wikipedia.org/wiki/Better_Call_Saul](https://en.wikipedia.org/wiki/Better_Call_Saul)"
   ]
  },
  {
   "cell_type": "raw",
   "id": "a2b53106-b9df-40cc-a4dc-040cdb56ec1e",
   "metadata": {},
   "source": [
    "<img src=\"Better_Call_Saul_logo.png\" alt=\"\" width=\"300\"/>"
   ]
  },
  {
   "cell_type": "code",
   "execution_count": 14,
   "id": "6a456682-f6d1-4b34-bd40-6d785a058f6d",
   "metadata": {},
   "outputs": [
    {
     "data": {
      "text/html": [
       "<h3>Better Call Saul Season Viewership</h3>"
      ],
      "text/plain": [
       "<IPython.core.display.HTML object>"
      ]
     },
     "metadata": {},
     "output_type": "display_data"
    },
    {
     "data": {
      "text/html": [
       "<table border=\"1\" class=\"dataframe\">\n",
       "  <thead>\n",
       "    <tr style=\"text-align: right;\">\n",
       "      <th>Season</th>\n",
       "      <th>Timeslot</th>\n",
       "      <th>Episodes</th>\n",
       "      <th>First Aired</th>\n",
       "      <th>First Viewers</th>\n",
       "      <th>Last Aired</th>\n",
       "      <th>Last Viewers</th>\n",
       "      <th>Average Viewers</th>\n",
       "    </tr>\n",
       "  </thead>\n",
       "  <tbody>\n",
       "    <tr>\n",
       "      <td>1</td>\n",
       "      <td>Sunday 10:00 pm (ep1), Monday 10:00 pm (ep2–10)</td>\n",
       "      <td>10</td>\n",
       "      <td>February 8, 2015</td>\n",
       "      <td>6.88</td>\n",
       "      <td>April 6, 2015</td>\n",
       "      <td>2.53</td>\n",
       "      <td>3.21</td>\n",
       "    </tr>\n",
       "    <tr>\n",
       "      <td>2</td>\n",
       "      <td>Monday 10:00 pm</td>\n",
       "      <td>10</td>\n",
       "      <td>February 15, 2016</td>\n",
       "      <td>2.57</td>\n",
       "      <td>April 18, 2016</td>\n",
       "      <td>2.26</td>\n",
       "      <td>2.16</td>\n",
       "    </tr>\n",
       "    <tr>\n",
       "      <td>3</td>\n",
       "      <td>Monday 10:00 pm</td>\n",
       "      <td>10</td>\n",
       "      <td>April 10, 2017</td>\n",
       "      <td>1.81</td>\n",
       "      <td>June 19, 2017</td>\n",
       "      <td>1.85</td>\n",
       "      <td>1.64</td>\n",
       "    </tr>\n",
       "    <tr>\n",
       "      <td>4</td>\n",
       "      <td>Monday 9:00 pm</td>\n",
       "      <td>10</td>\n",
       "      <td>August 6, 2018</td>\n",
       "      <td>1.77</td>\n",
       "      <td>October 8, 2018</td>\n",
       "      <td>1.53</td>\n",
       "      <td>1.49</td>\n",
       "    </tr>\n",
       "    <tr>\n",
       "      <td>5</td>\n",
       "      <td>Sunday 10:00 pm (ep1), Monday 9:00 pm (ep2–10)</td>\n",
       "      <td>10</td>\n",
       "      <td>February 23, 2020</td>\n",
       "      <td>1.60</td>\n",
       "      <td>April 20, 2020</td>\n",
       "      <td>1.59</td>\n",
       "      <td>1.37</td>\n",
       "    </tr>\n",
       "    <tr>\n",
       "      <td>6A</td>\n",
       "      <td>Monday 9:00 pm</td>\n",
       "      <td>7</td>\n",
       "      <td>April 18, 2022</td>\n",
       "      <td>1.42</td>\n",
       "      <td>May 23, 2022</td>\n",
       "      <td>1.19</td>\n",
       "      <td>1.27</td>\n",
       "    </tr>\n",
       "    <tr>\n",
       "      <td>6B</td>\n",
       "      <td>NaN</td>\n",
       "      <td>6</td>\n",
       "      <td>July 11, 2022</td>\n",
       "      <td>1.16</td>\n",
       "      <td>August 15, 2022</td>\n",
       "      <td>1.80</td>\n",
       "      <td>1.27</td>\n",
       "    </tr>\n",
       "  </tbody>\n",
       "</table>"
      ],
      "text/plain": [
       "<IPython.core.display.HTML object>"
      ]
     },
     "metadata": {},
     "output_type": "display_data"
    }
   ],
   "source": [
    "import pandas as pd\n",
    "from IPython.display import display, HTML\n",
    "\n",
    "ratings = pd.read_csv(\"vievership_stats.csv\")\n",
    "\n",
    "# Show title and table without index\n",
    "display(HTML(\"<h3>Better Call Saul Season Viewership</h3>\"))\n",
    "display(HTML(ratings.to_html(index=False)))"
   ]
  },
  {
   "cell_type": "code",
   "execution_count": null,
   "id": "77a03419-1325-4995-b0c1-971382bf182a",
   "metadata": {},
   "outputs": [],
   "source": []
  }
 ],
 "metadata": {
  "kernelspec": {
   "display_name": "Python 3 (ipykernel)",
   "language": "python",
   "name": "python3"
  },
  "language_info": {
   "codemirror_mode": {
    "name": "ipython",
    "version": 3
   },
   "file_extension": ".py",
   "mimetype": "text/x-python",
   "name": "python",
   "nbconvert_exporter": "python",
   "pygments_lexer": "ipython3",
   "version": "3.12.0"
  }
 },
 "nbformat": 4,
 "nbformat_minor": 5
}
